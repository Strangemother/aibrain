{
 "cells": [
  {
   "cell_type": "code",
   "execution_count": 1,
   "id": "a4d584c8-834a-444f-9a75-208c6b92a3c2",
   "metadata": {},
   "outputs": [
    {
     "name": "stdout",
     "output_type": "stream",
     "text": [
      "Requirement already satisfied: numpy in ./env/lib/python3.12/site-packages (2.2.4)\n",
      "\n",
      "\u001b[1m[\u001b[0m\u001b[34;49mnotice\u001b[0m\u001b[1;39;49m]\u001b[0m\u001b[39;49m A new release of pip is available: \u001b[0m\u001b[31;49m25.0.1\u001b[0m\u001b[39;49m -> \u001b[0m\u001b[32;49m25.1.1\u001b[0m\n",
      "\u001b[1m[\u001b[0m\u001b[34;49mnotice\u001b[0m\u001b[1;39;49m]\u001b[0m\u001b[39;49m To update, run: \u001b[0m\u001b[32;49mpip install --upgrade pip\u001b[0m\n"
     ]
    }
   ],
   "source": [
    "!pip install numpy"
   ]
  },
  {
   "cell_type": "code",
   "execution_count": 2,
   "id": "b72c4da4-0c2c-4445-86f7-48b9f0abd8a6",
   "metadata": {},
   "outputs": [],
   "source": [
    "# sygmoid\n",
    "import numpy as np\n",
    "\n",
    "def sigmoid(z):\n",
    "  return 1.0 / (1 + np.exp(-z))"
   ]
  },
  {
   "cell_type": "code",
   "execution_count": 3,
   "id": "3cdb0c6c-c447-45bd-a70e-214d86994e05",
   "metadata": {},
   "outputs": [
    {
     "name": "stdout",
     "output_type": "stream",
     "text": [
      "0.5\n",
      "0.6224593312018546\n",
      "0.7310585786300049\n"
     ]
    }
   ],
   "source": [
    "print(sigmoid(0))\n",
    "print(sigmoid(0.5))\n",
    "print(sigmoid(1))"
   ]
  },
  {
   "cell_type": "code",
   "execution_count": 4,
   "id": "b6396cb5-0756-4a21-a912-f0bdcbc9adf5",
   "metadata": {},
   "outputs": [
    {
     "data": {
      "text/plain": [
       "np.float64(0.45016600268752216)"
      ]
     },
     "execution_count": 4,
     "metadata": {},
     "output_type": "execute_result"
    }
   ],
   "source": [
    "sigmoid(-0.2)"
   ]
  },
  {
   "cell_type": "code",
   "execution_count": 5,
   "id": "ec78f30d-aeb3-40ab-ad9e-3f036db87fca",
   "metadata": {},
   "outputs": [],
   "source": [
    "def sigmoid_prime(z):\n",
    "    return sigmoid(z) * (1-sigmoid(z))"
   ]
  },
  {
   "cell_type": "code",
   "execution_count": 6,
   "id": "446efc4b-db20-4fb8-ba2c-bc4f4828e7a0",
   "metadata": {},
   "outputs": [],
   "source": [
    "def dictify(word):\n",
    "    thedict = {}\n",
    "    for i, letter in enumerate(word):\n",
    "        thedict[letter] = (i+1)/len(word)\n",
    "    return thedict"
   ]
  },
  {
   "cell_type": "code",
   "execution_count": 7,
   "id": "ffd5d3d2-048d-4551-87d8-3e729fb23c4f",
   "metadata": {},
   "outputs": [
    {
     "data": {
      "text/plain": [
       "{'x': 0.09090909090909091,\n",
       " 'w': 0.18181818181818182,\n",
       " 'i': 0.2727272727272727,\n",
       " 'n': 0.36363636363636365,\n",
       " 'g': 0.45454545454545453,\n",
       " ' ': 0.5454545454545454,\n",
       " 'd': 0.6363636363636364,\n",
       " 'e': 0.7272727272727273,\n",
       " 'l': 0.8181818181818182,\n",
       " 't': 0.9090909090909091,\n",
       " 'a': 1.0}"
      ]
     },
     "execution_count": 7,
     "metadata": {},
     "output_type": "execute_result"
    }
   ],
   "source": [
    "bits = dictify('xwing delta')\n",
    "bits"
   ]
  },
  {
   "cell_type": "code",
   "execution_count": 8,
   "id": "5112fd56-48af-4a93-9a5c-c7057e67a90e",
   "metadata": {},
   "outputs": [
    {
     "data": {
      "text/plain": [
       "{0.09090909090909091: 'x',\n",
       " 0.18181818181818182: 'w',\n",
       " 0.2727272727272727: 'i',\n",
       " 0.36363636363636365: 'n',\n",
       " 0.45454545454545453: 'g',\n",
       " 0.5454545454545454: ' ',\n",
       " 0.6363636363636364: 'd',\n",
       " 0.7272727272727273: 'e',\n",
       " 0.8181818181818182: 'l',\n",
       " 0.9090909090909091: 't',\n",
       " 1.0: 'a'}"
      ]
     },
     "execution_count": 8,
     "metadata": {},
     "output_type": "execute_result"
    }
   ],
   "source": [
    "stib = {v:k for k,v in bits.items()}\n",
    "stib"
   ]
  },
  {
   "cell_type": "code",
   "execution_count": 9,
   "id": "309f25f9-23d5-42b6-8877-3217dcd4179b",
   "metadata": {},
   "outputs": [],
   "source": [
    "training_data = (\n",
    "    (bits['x'], bits['d']),\n",
    "    (bits['w'], bits['e']),\n",
    "    (bits['i'], bits['l']),\n",
    "    (bits['n'], bits['t']),\n",
    "    (bits['g'], bits['a']),\n",
    ")"
   ]
  },
  {
   "cell_type": "code",
   "execution_count": 10,
   "id": "4b0c9f88-7fbf-41c3-8029-02b12b0c23a9",
   "metadata": {},
   "outputs": [
    {
     "data": {
      "text/plain": [
       "((0.09090909090909091, 0.6363636363636364),\n",
       " (0.18181818181818182, 0.7272727272727273),\n",
       " (0.2727272727272727, 0.8181818181818182),\n",
       " (0.36363636363636365, 0.9090909090909091),\n",
       " (0.45454545454545453, 1.0))"
      ]
     },
     "execution_count": 10,
     "metadata": {},
     "output_type": "execute_result"
    }
   ],
   "source": [
    "training_data"
   ]
  },
  {
   "cell_type": "code",
   "execution_count": 11,
   "id": "bda229c6-c401-417e-99c6-4862f38acd63",
   "metadata": {},
   "outputs": [],
   "source": [
    "# initialized weights and biases\n",
    "input_size = 1\n",
    "hidden_size = 2\n",
    "output_size = 1\n",
    "\n",
    "weights_input_to_hidden = np.random.uniform(-1, 1, (input_size, hidden_size))"
   ]
  },
  {
   "cell_type": "code",
   "execution_count": 12,
   "id": "0688b8a7-7122-434d-b358-98745247e858",
   "metadata": {},
   "outputs": [
    {
     "data": {
      "text/plain": [
       "array([[0.68833643, 0.90106152]])"
      ]
     },
     "execution_count": 12,
     "metadata": {},
     "output_type": "execute_result"
    }
   ],
   "source": [
    "weights_input_to_hidden"
   ]
  },
  {
   "cell_type": "code",
   "execution_count": 13,
   "id": "cc887bcb-f02f-43a6-860d-bdc53113d54e",
   "metadata": {},
   "outputs": [],
   "source": [
    "weights_hidden_to_output = np.random.uniform(-1, 1, (hidden_size, output_size))"
   ]
  },
  {
   "cell_type": "code",
   "execution_count": 14,
   "id": "0c6da4dc-4520-4199-bf7c-56c2b67b85cf",
   "metadata": {},
   "outputs": [
    {
     "data": {
      "text/plain": [
       "array([[-0.47705316],\n",
       "       [-0.07425556]])"
      ]
     },
     "execution_count": 14,
     "metadata": {},
     "output_type": "execute_result"
    }
   ],
   "source": [
    "weights_hidden_to_output"
   ]
  },
  {
   "cell_type": "code",
   "execution_count": 15,
   "id": "68fb8dfa-a92a-4630-bb81-a7cb84031993",
   "metadata": {},
   "outputs": [],
   "source": [
    "bias_hidden = np.random.uniform(-1, 1, (hidden_size))"
   ]
  },
  {
   "cell_type": "code",
   "execution_count": 16,
   "id": "3285a220-2af7-4a45-9596-5f4bdc6944ed",
   "metadata": {},
   "outputs": [
    {
     "data": {
      "text/plain": [
       "array([-0.94283126,  0.9310138 ])"
      ]
     },
     "execution_count": 16,
     "metadata": {},
     "output_type": "execute_result"
    }
   ],
   "source": [
    "bias_hidden"
   ]
  },
  {
   "cell_type": "code",
   "execution_count": 17,
   "id": "3960efdb-1716-4f50-88cd-5505c2c643a0",
   "metadata": {},
   "outputs": [],
   "source": [
    "bias_output = np.random.uniform(-1, 1, (output_size))"
   ]
  },
  {
   "cell_type": "code",
   "execution_count": 18,
   "id": "63869ce4-5add-4477-a55b-e8efb51dbec1",
   "metadata": {},
   "outputs": [
    {
     "data": {
      "text/plain": [
       "array([-0.40630711])"
      ]
     },
     "execution_count": 18,
     "metadata": {},
     "output_type": "execute_result"
    }
   ],
   "source": [
    "bias_output"
   ]
  },
  {
   "cell_type": "code",
   "execution_count": 19,
   "id": "c515e96e-43fe-47d0-a4c0-75aa8cd4b2d6",
   "metadata": {},
   "outputs": [],
   "source": [
    "input_values = np.array([bits['x']])"
   ]
  },
  {
   "cell_type": "code",
   "execution_count": 20,
   "id": "5ed46d22-c98b-420b-8aca-7d329e844400",
   "metadata": {},
   "outputs": [
    {
     "data": {
      "text/plain": [
       "'n'"
      ]
     },
     "execution_count": 20,
     "metadata": {},
     "output_type": "execute_result"
    }
   ],
   "source": [
    "input_values = np.array([bits['x']])\n",
    "hidden_layer_input = np.dot(input_values, weights_input_to_hidden) + bias_hidden\n",
    "hidden_layer_output = sigmoid(hidden_layer_input)\n",
    "final_output_input = np.dot(hidden_layer_output, weights_hidden_to_output) + bias_output\n",
    "final_output = sigmoid(final_output_input)\n",
    "closest_num = min(bits.values(), key=lambda x: abs(x - final_output))\n",
    "predicted_letter = stib.get(closest_num)\n",
    "predicted_letter"
   ]
  },
  {
   "cell_type": "code",
   "execution_count": 21,
   "id": "3533a8b9-89df-4024-b285-c41c6e12d63c",
   "metadata": {},
   "outputs": [],
   "source": [
    "hidden_layer_input = np.dot(input_values, weights_input_to_hidden) + bias_hidden"
   ]
  },
  {
   "cell_type": "code",
   "execution_count": 22,
   "id": "437ef46b-39de-4a4e-80cc-63e1165cb355",
   "metadata": {},
   "outputs": [
    {
     "data": {
      "text/plain": [
       "array([-0.88025522,  1.01292849])"
      ]
     },
     "execution_count": 22,
     "metadata": {},
     "output_type": "execute_result"
    }
   ],
   "source": [
    "hidden_layer_input"
   ]
  },
  {
   "cell_type": "code",
   "execution_count": 23,
   "id": "77c67025-f7b6-4c6e-ab29-0c955c18f812",
   "metadata": {},
   "outputs": [],
   "source": [
    "hidden_layer_output = sigmoid(hidden_layer_input)"
   ]
  },
  {
   "cell_type": "code",
   "execution_count": 24,
   "id": "f9f584f3-846d-40a2-812a-bdd8deff40a9",
   "metadata": {},
   "outputs": [
    {
     "data": {
      "text/plain": [
       "array([0.29312489, 0.73359287])"
      ]
     },
     "execution_count": 24,
     "metadata": {},
     "output_type": "execute_result"
    }
   ],
   "source": [
    "hidden_layer_output"
   ]
  },
  {
   "cell_type": "code",
   "execution_count": 25,
   "id": "8b8bffe1-ef96-4823-b86d-ef6008741f3d",
   "metadata": {},
   "outputs": [],
   "source": [
    "final_output_input = np.dot(hidden_layer_output, weights_hidden_to_output) + bias_output"
   ]
  },
  {
   "cell_type": "code",
   "execution_count": 26,
   "id": "c2cf8d64-1252-4d6b-a533-0513eb6a0c86",
   "metadata": {},
   "outputs": [
    {
     "data": {
      "text/plain": [
       "array([-0.60061661])"
      ]
     },
     "execution_count": 26,
     "metadata": {},
     "output_type": "execute_result"
    }
   ],
   "source": [
    "final_output_input"
   ]
  },
  {
   "cell_type": "code",
   "execution_count": 27,
   "id": "25747643-9629-47ad-9733-05d462253c05",
   "metadata": {},
   "outputs": [],
   "source": [
    "final_output = sigmoid(final_output_input)"
   ]
  },
  {
   "cell_type": "code",
   "execution_count": 28,
   "id": "f6f1c043-be7c-413f-aaca-6a35bc6284e3",
   "metadata": {},
   "outputs": [
    {
     "data": {
      "text/plain": [
       "array([0.35420264])"
      ]
     },
     "execution_count": 28,
     "metadata": {},
     "output_type": "execute_result"
    }
   ],
   "source": [
    "final_output"
   ]
  },
  {
   "cell_type": "code",
   "execution_count": 29,
   "id": "986d661b-9062-483b-b368-281319c0edd0",
   "metadata": {},
   "outputs": [],
   "source": [
    "closest_num = min(bits.values(), key=lambda x: abs(x - final_output))"
   ]
  },
  {
   "cell_type": "code",
   "execution_count": 30,
   "id": "e23134fb-d6ae-47c2-be8f-d4b314d2f20b",
   "metadata": {},
   "outputs": [
    {
     "data": {
      "text/plain": [
       "0.36363636363636365"
      ]
     },
     "execution_count": 30,
     "metadata": {},
     "output_type": "execute_result"
    }
   ],
   "source": [
    "closest_num"
   ]
  },
  {
   "cell_type": "code",
   "execution_count": 31,
   "id": "cebb0398-a4bd-457f-bc23-b9e180ba20cb",
   "metadata": {},
   "outputs": [
    {
     "data": {
      "text/plain": [
       "'n'"
      ]
     },
     "execution_count": 31,
     "metadata": {},
     "output_type": "execute_result"
    }
   ],
   "source": [
    "predicted_letter = stib.get(closest_num)\n",
    "predicted_letter"
   ]
  },
  {
   "cell_type": "code",
   "execution_count": 32,
   "id": "6eaf9627-de74-4d84-8b97-94a65640e599",
   "metadata": {},
   "outputs": [],
   "source": [
    "learning_rate = 0.1\n",
    "\n",
    "def train_the_brain(ecount=100_000):\n",
    "    output_error = 0\n",
    "    global weights_input_to_hidden\n",
    "    global bias_hidden\n",
    "    global weights_hidden_to_output\n",
    "    global bias_output\n",
    "    for epoch in range(ecount):\n",
    "        if epoch % 50_000 == 0:\n",
    "            print(epoch, output_error)\n",
    "        for input_value, output_value in training_data:\n",
    "            # forward pass\n",
    "            input_array = np.array([input_value])\n",
    "            output_array = np.array([output_value])\n",
    "            \n",
    "            hidden_layer_input = np.dot(input_array, weights_input_to_hidden) + bias_hidden\n",
    "            hidden_layer_output = sigmoid(hidden_layer_input)\n",
    "            \n",
    "            final_output_input = np.dot(hidden_layer_output, weights_hidden_to_output) + bias_output\n",
    "            final_output = sigmoid(final_output_input)\n",
    "    \n",
    "            # back propegation\n",
    "            output_error = output_array - final_output\n",
    "            d_final_output = output_error * sigmoid_prime(final_output)\n",
    "    \n",
    "            hidden_layer_error = d_final_output.dot(weights_hidden_to_output.T)\n",
    "            d_hidden_layer = hidden_layer_error * sigmoid_prime(hidden_layer_output)\n",
    "    \n",
    "            # update weights and biasis\n",
    "            weights_hidden_to_output += np.outer(hidden_layer_output, d_final_output) * learning_rate\n",
    "            bias_output += d_final_output * learning_rate\n",
    "    \n",
    "            weights_input_to_hidden += np.outer(input_array, d_hidden_layer) * learning_rate\n",
    "            bias_hidden += d_hidden_layer * learning_rate"
   ]
  },
  {
   "cell_type": "code",
   "execution_count": 33,
   "id": "2daa209f-90fe-4b97-8565-681fba3364fb",
   "metadata": {},
   "outputs": [],
   "source": [
    "def predicter(word):\n",
    "    t=()\n",
    "    for letter in word:\n",
    "        v=predict_next_letter(bits[letter])\n",
    "        t+=(v,)\n",
    "\n",
    "    return t\n",
    "    "
   ]
  },
  {
   "cell_type": "code",
   "execution_count": 34,
   "id": "2640c950-ebc6-4771-ad17-ec3653cb40a5",
   "metadata": {},
   "outputs": [],
   "source": [
    "def predict_next_letter(input_val):\n",
    "    # Convert input letter to numerical form\n",
    "    input_val = np.array([input_val])\n",
    "\n",
    "    # Forward pass\n",
    "    hidden_layer_input = np.dot(input_val, weights_input_to_hidden) + bias_hidden\n",
    "    hidden_layer_output = sigmoid(hidden_layer_input)\n",
    "\n",
    "    final_output_input = np.dot(hidden_layer_output, weights_hidden_to_output) + bias_output\n",
    "    final_output = sigmoid(final_output_input)\n",
    "\n",
    "    # Convert numerical output to closest letter encoding\n",
    "    closest_num = min(bits.values(), key=lambda x: abs(x - final_output))\n",
    "    predicted_letter = stib[closest_num]\n",
    "\n",
    "    return predicted_letter"
   ]
  },
  {
   "cell_type": "code",
   "execution_count": 35,
   "id": "93232383-0003-4c15-a017-c93bf0f4b3ed",
   "metadata": {},
   "outputs": [
    {
     "name": "stdout",
     "output_type": "stream",
     "text": [
      "nnnnn\n",
      "0 0\n",
      "50000 [0.03474634]\n"
     ]
    }
   ],
   "source": [
    "for i in range(1000):\n",
    "    expected = \"delta\"\n",
    "    result = predicter('xwing')\n",
    "    result = ''.join(result)\n",
    "    if result!=expected:\n",
    "        print(result)\n",
    "        train_the_brain()\n",
    "    else:\n",
    "        break"
   ]
  },
  {
   "cell_type": "code",
   "execution_count": 36,
   "id": "9eba5bd6-2eab-41af-95f6-e125c749b8d7",
   "metadata": {},
   "outputs": [
    {
     "data": {
      "text/plain": [
       "('d', 'e', 'l', 't', 'a')"
      ]
     },
     "execution_count": 36,
     "metadata": {},
     "output_type": "execute_result"
    }
   ],
   "source": [
    "predicter('xwing')"
   ]
  },
  {
   "cell_type": "code",
   "execution_count": 37,
   "id": "6b0e5576-c4c3-4676-a3a8-2a313c79b3ee",
   "metadata": {},
   "outputs": [
    {
     "data": {
      "text/plain": [
       "array([0.09090909])"
      ]
     },
     "execution_count": 37,
     "metadata": {},
     "output_type": "execute_result"
    }
   ],
   "source": [
    "input_values"
   ]
  },
  {
   "cell_type": "code",
   "execution_count": 38,
   "id": "ab65d3ba-b8c7-46ef-8838-558de76f03b9",
   "metadata": {},
   "outputs": [
    {
     "name": "stdout",
     "output_type": "stream",
     "text": [
      "weights_input_to_hidden: [[2.59956508 4.98812615]]\n",
      "bias_hidden: [-1.53479603 -2.57685992]\n",
      "weights_hidden_to_output: [[3.25127842]\n",
      " [7.52927957]]\n",
      "bias_output: [-1.02257651]\n"
     ]
    }
   ],
   "source": [
    "print(f\"weights_input_to_hidden: {weights_input_to_hidden}\")\n",
    "print(f\"bias_hidden: {bias_hidden}\")\n",
    "print(f\"weights_hidden_to_output: {weights_hidden_to_output}\")\n",
    "print(f\"bias_output: {bias_output}\")"
   ]
  },
  {
   "cell_type": "code",
   "execution_count": null,
   "id": "664bb84f-c65f-4d03-accd-af32c2a92af6",
   "metadata": {},
   "outputs": [],
   "source": []
  }
 ],
 "metadata": {
  "kernelspec": {
   "display_name": "Python 3 (ipykernel)",
   "language": "python",
   "name": "python3"
  },
  "language_info": {
   "codemirror_mode": {
    "name": "ipython",
    "version": 3
   },
   "file_extension": ".py",
   "mimetype": "text/x-python",
   "name": "python",
   "nbconvert_exporter": "python",
   "pygments_lexer": "ipython3",
   "version": "3.12.7"
  }
 },
 "nbformat": 4,
 "nbformat_minor": 5
}
