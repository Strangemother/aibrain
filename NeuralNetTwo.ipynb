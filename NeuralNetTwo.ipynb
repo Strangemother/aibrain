{
 "cells": [
  {
   "cell_type": "code",
   "execution_count": 1,
   "id": "6ba1f697-575a-4b40-b491-eca194e52c19",
   "metadata": {},
   "outputs": [],
   "source": [
    "import numpy as np"
   ]
  },
  {
   "cell_type": "code",
   "execution_count": 2,
   "id": "089a5342-ff82-473a-a156-a6ba99403521",
   "metadata": {},
   "outputs": [],
   "source": [
    "def sigmoid(z):\n",
    "  return 1.0 / (1 + np.exp(-z))"
   ]
  },
  {
   "cell_type": "code",
   "execution_count": 3,
   "id": "b16e244b-df14-4a85-860c-3444a2a9c7f9",
   "metadata": {},
   "outputs": [],
   "source": [
    "def sigmoid_prime(z):\n",
    "    return sigmoid(z) * (1-sigmoid(z))"
   ]
  },
  {
   "cell_type": "code",
   "execution_count": 4,
   "id": "5ac1c5ba-715c-4a45-93d3-2f6ddfe73712",
   "metadata": {},
   "outputs": [],
   "source": [
    "def sigmoid_derivative(x):\n",
    "    return x * (1 - x)"
   ]
  },
  {
   "cell_type": "code",
   "execution_count": 5,
   "id": "cf823c18-0fbf-4f96-bfcb-e409d3e026c0",
   "metadata": {},
   "outputs": [],
   "source": [
    "def initialized_network(input_size: int, hidden_layers: list, output_size: int):\n",
    "    layers = [input_size] + hidden_layers + [output_size]\n",
    "    weights = []\n",
    "    biases = []\n",
    "    print(f' initialize_network {layers=}')\n",
    "    \n",
    "    l = len(layers) - 1\n",
    "\n",
    "    for i in range(l):\n",
    "        \n",
    "        weight = np.random.uniform(-1, 1, (layers[i], layers[i+1]))\n",
    "        bias = np.random.uniform(-1, 1, (layers[i+1],))\n",
    "        print(f' #{i+1}/{l} {weight=}')\n",
    "        print(f'   {bias=}\\n')\n",
    "        weights.append(weight)\n",
    "        biases.append(bias)\n",
    "\n",
    "    return weights, biases\n",
    "        "
   ]
  },
  {
   "cell_type": "code",
   "execution_count": 6,
   "id": "92ebfcd6-7e45-4439-b517-3790dbc3f322",
   "metadata": {},
   "outputs": [
    {
     "name": "stdout",
     "output_type": "stream",
     "text": [
      " initialize_network layers=[2, 2, 2, 2, 2]\n",
      " #1/4 weight=array([[ 0.39932464, -0.89748946],\n",
      "       [-0.24750003, -0.13578477]])\n",
      "   bias=array([-0.83044915,  0.26025243])\n",
      "\n",
      " #2/4 weight=array([[-0.12223255, -0.91057739],\n",
      "       [-0.92643605, -0.67765512]])\n",
      "   bias=array([-0.43541724,  0.70108038])\n",
      "\n",
      " #3/4 weight=array([[-0.18163872,  0.97514029],\n",
      "       [-0.04650785, -0.34437053]])\n",
      "   bias=array([ 0.99514354, -0.49898762])\n",
      "\n",
      " #4/4 weight=array([[ 0.63086147,  0.8648835 ],\n",
      "       [-0.45486898,  0.83209314]])\n",
      "   bias=array([0.28172552, 0.07365635])\n",
      "\n"
     ]
    }
   ],
   "source": [
    "weights, biases = initialized_network(2,[2,2,2],2)"
   ]
  },
  {
   "cell_type": "code",
   "execution_count": 7,
   "id": "f8590320-bffe-400e-94dc-80233bd7a870",
   "metadata": {},
   "outputs": [],
   "source": [
    "def train_network(td, w, b, lr=0.1, e=1000):\n",
    "    for epoch in range(e):\n",
    "        total_error = 0\n",
    "        for input_val, expected_output in td:\n",
    "            total_error += train_once(input_val, expected_output, lr, w, b)\n",
    "        if epoch % 1000 ==0:\n",
    "            print(f\"Epoch {epoch}, Total Error: {total_error}\")\n",
    "\n",
    "    return w, b\n",
    "            "
   ]
  },
  {
   "cell_type": "code",
   "execution_count": 8,
   "id": "39ea6879-e71a-4077-84bb-0d5891a46290",
   "metadata": {},
   "outputs": [],
   "source": [
    "training_data_0_0 = [\n",
    "    (\n",
    "        (0.5,0.5),\n",
    "        (1,1),\n",
    "    ),\n",
    "    (\n",
    "        (0.5,0.5),\n",
    "        (1,1),\n",
    "    )\n",
    "]"
   ]
  },
  {
   "cell_type": "code",
   "execution_count": 9,
   "id": "63381565-626c-4029-9e03-6de09b605a59",
   "metadata": {},
   "outputs": [],
   "source": [
    "def forward_pass(input_data, weights, biases):\n",
    "    activations = [input_data]\n",
    "    for i in range(len(weights)):\n",
    "        # on error: likely due to the input shape not matching the input nodes.\n",
    "        input_data = np.dot(input_data, weights[i]) + biases[i]\n",
    "        input_data = sigmoid(input_data)\n",
    "        activations.append(input_data)\n",
    "    return activations"
   ]
  },
  {
   "cell_type": "code",
   "execution_count": 10,
   "id": "737a9c3e-d3c3-4f7f-98d9-a74aec085d87",
   "metadata": {},
   "outputs": [],
   "source": [
    "def train_once(input_val, expected_output, learning_rate, weights, biases):\n",
    "    \"\"\"\n",
    "    # Example of adjusting training data to include negative example flag\n",
    "    training_data = [\n",
    "        # Positive examples: ((input_features), (target_output, False))\n",
    "        ((input_features_for_example_1), (target_output_for_example_1, False)),\n",
    "        # Negative examples: ((input_features), (target_output, True))\n",
    "        ((input_features_for_negative_example_1), (target_output_for_negative_example_1, True)),\n",
    "    ]\n",
    "\n",
    "    \"\"\"\n",
    "    # Forward pass: Store activations for each layer\n",
    "    activations = forward_pass(input_val, weights, biases)\n",
    "\n",
    "    # Backward pass\n",
    "    # Calculate output error\n",
    "    output_error = expected_output - activations[-1]\n",
    "    total_error = np.sum(output_error ** 2)\n",
    "\n",
    "    # Calculate gradient for output layer\n",
    "    d_error = output_error * sigmoid_derivative(activations[-1])\n",
    "\n",
    "    for i in reversed(range(len(weights))):\n",
    "        # Calculate error for the current layer\n",
    "        d_weights = np.outer(activations[i], d_error)\n",
    "        d_biases = d_error\n",
    "\n",
    "        # Update weights and biases\n",
    "        weights[i] += learning_rate * d_weights\n",
    "        # cannot be: `biases[i] += learning_rate * d_biases` due to numpy\n",
    "        biases[i] = biases[i] + (learning_rate * d_biases)\n",
    "\n",
    "        # Propagate the error backward\n",
    "        if i > 0:\n",
    "            d_error = np.dot(d_error, weights[i].T) * sigmoid_derivative(activations[i])\n",
    "    return total_error"
   ]
  },
  {
   "cell_type": "code",
   "execution_count": 11,
   "id": "8a909c1e-38f7-42e6-933b-752558fdf66f",
   "metadata": {
    "scrolled": true
   },
   "outputs": [
    {
     "name": "stdout",
     "output_type": "stream",
     "text": [
      "Epoch 0, Total Error: 0.40368117641995105\n"
     ]
    },
    {
     "data": {
      "text/plain": [
       "([array([[ 0.39930205, -0.90150283],\n",
       "         [-0.24752263, -0.13979813]]),\n",
       "  array([[-0.10972272, -0.91209643],\n",
       "         [-0.90943296, -0.67972773]]),\n",
       "  array([[-0.0261719 ,  1.04628185],\n",
       "         [ 0.22973878, -0.21854887]]),\n",
       "  array([[1.73380364, 1.73519602],\n",
       "         [0.15838442, 1.3163862 ]])],\n",
       " [array([-0.83049435,  0.2522257 ]),\n",
       "  array([-0.39632385,  0.69633351]),\n",
       "  array([ 1.51898517, -0.26031613]),\n",
       "  array([1.70887269, 1.19307267])])"
      ]
     },
     "execution_count": 11,
     "metadata": {},
     "output_type": "execute_result"
    }
   ],
   "source": [
    "train_network(training_data_0_0, weights, biases)"
   ]
  },
  {
   "cell_type": "code",
   "execution_count": 12,
   "id": "919d0069-ba0d-46c1-a7f6-e5b2f9652f3a",
   "metadata": {},
   "outputs": [],
   "source": [
    "def dictify(word):\n",
    "    thedict = {}\n",
    "    for i, letter in enumerate(word):\n",
    "        thedict[letter] = (i+1)/len(word)\n",
    "    return thedict"
   ]
  },
  {
   "cell_type": "code",
   "execution_count": 13,
   "id": "e93ffb8a-57b5-468b-acfc-d4cf052b31d5",
   "metadata": {},
   "outputs": [
    {
     "data": {
      "text/plain": [
       "{'c': 0.16666666666666666,\n",
       " 'a': 0.3333333333333333,\n",
       " 't': 0.5,\n",
       " 'd': 0.6666666666666666,\n",
       " 'o': 0.8333333333333334,\n",
       " 'g': 1.0}"
      ]
     },
     "execution_count": 13,
     "metadata": {},
     "output_type": "execute_result"
    }
   ],
   "source": [
    "bits = dictify(\"catdog\")\n",
    "bits"
   ]
  },
  {
   "cell_type": "code",
   "execution_count": 14,
   "id": "4f62fc3d-33e4-4a20-bb84-3d40431e8750",
   "metadata": {},
   "outputs": [],
   "source": [
    "tds = [\n",
    "    (\n",
    "        (0.16666666666666666,0.3333333333333333, 0.5),\n",
    "        (0.6666666666666666,0.8333333333333334, 1.0),\n",
    "    ),\n",
    "    (\n",
    "        (0.6666666666666666,0.8333333333333334, 1.0),\n",
    "        (0.16666666666666666,0.3333333333333333, 0.5),\n",
    "    )\n",
    "]"
   ]
  },
  {
   "cell_type": "code",
   "execution_count": 48,
   "id": "081915ac-b0dd-4935-919e-ed5d4b4ae66d",
   "metadata": {},
   "outputs": [
    {
     "name": "stdout",
     "output_type": "stream",
     "text": [
      " initialize_network layers=[3, 3, 3]\n",
      " #1/2 weight=array([[ 0.42212036,  0.75979053, -0.17558092],\n",
      "       [ 0.54646904,  0.50469965, -0.54428266],\n",
      "       [ 0.99687195, -0.09400343,  0.8966961 ]])\n",
      "   bias=array([ 0.1278994 , -0.20424399,  0.62679154])\n",
      "\n",
      " #2/2 weight=array([[-0.95865187, -0.1424329 ,  0.71937699],\n",
      "       [ 0.0557682 ,  0.02253462, -0.71143145],\n",
      "       [-0.47856375, -0.12111137, -0.05012506]])\n",
      "   bias=array([ 0.57000853,  0.37961193, -0.56608954])\n",
      "\n",
      "Epoch 0, Total Error: 0.6232657658157624\n"
     ]
    },
    {
     "data": {
      "text/plain": [
       "([array([[ 0.56357988,  1.24428272, -0.24766042],\n",
       "         [ 0.63983016,  0.91010253, -0.60688321],\n",
       "         [ 1.04213467,  0.23231014,  0.84357451]]),\n",
       "  array([[-1.38069566, -0.61444913,  0.77274615],\n",
       "         [-0.59223278, -0.68991291, -1.00041395],\n",
       "         [-0.15987614,  0.21220113,  0.65575977]])],\n",
       " [array([-0.16069101, -0.67877984,  0.68366529]),\n",
       "  array([1.16406198, 1.00662597, 0.55869607])])"
      ]
     },
     "execution_count": 48,
     "metadata": {},
     "output_type": "execute_result"
    }
   ],
   "source": [
    "ws, bs = initialized_network(3,[3],3)\n",
    "train_network(tds, ws, bs)"
   ]
  },
  {
   "cell_type": "code",
   "execution_count": 16,
   "id": "b4d86c67-93ee-47e0-95c8-982e16c88d9e",
   "metadata": {},
   "outputs": [
    {
     "name": "stdout",
     "output_type": "stream",
     "text": [
      "stib: {0.16666666666666666: 'c', 0.3333333333333333: 'a', 0.5: 't', 0.6666666666666666: 'd', 0.8333333333333334: 'o', 1.0: 'g'}\n",
      "fp: [(0.16666666666666666, 0.3333333333333333, 0.5), array([0.43388842, 0.52585939, 0.48831745]), array([0.54577744, 0.74325893, 0.85028089])]\n"
     ]
    }
   ],
   "source": [
    "cat_numbers = (bits[\"c\"], bits[\"a\"], bits[\"t\"])\n",
    "fp = forward_pass(cat_numbers, ws, bs)\n",
    "stib = {v:k for k,v in bits.items()}\n",
    "print(f\"stib: {stib}\")\n",
    "print(f\"fp: {fp}\")"
   ]
  },
  {
   "cell_type": "code",
   "execution_count": 46,
   "id": "24574837-98e8-4947-b482-c62419db1f31",
   "metadata": {},
   "outputs": [],
   "source": [
    "def closest_match(value, values_in, values_out):\n",
    "    fp = forward_pass(value, ws, bs)\n",
    "    for i in range(len(ws)):\n",
    "        value = np.dot(value, ws[i]) + bs[i]\n",
    "        value = sigmoid(value)\n",
    "    final_output = fp[0]\n",
    "    closest_numb = min(values_in.values(), key=lambda x: abs(x - final_output))\n",
    "    predicted_letter = values_out[closest_numb]\n",
    "    return predicted_letter"
   ]
  },
  {
   "cell_type": "code",
   "execution_count": 40,
   "id": "4a948572-944f-4476-afb0-2f62be196317",
   "metadata": {},
   "outputs": [
    {
     "data": {
      "text/plain": [
       "[array([[ 1.76042   , -0.93346325, -1.59480991],\n",
       "        [ 1.7979681 , -1.68149081, -1.06676862],\n",
       "        [ 0.40407384, -1.60996749, -1.1966817 ]]),\n",
       " array([[-1.87762423, -1.86077829, -1.5763203 ],\n",
       "        [ 1.75896554,  1.74217246,  2.8844176 ],\n",
       "        [ 1.63031841,  1.73729409,  2.45091741]])]"
      ]
     },
     "execution_count": 40,
     "metadata": {},
     "output_type": "execute_result"
    }
   ],
   "source": [
    "ws"
   ]
  },
  {
   "cell_type": "code",
   "execution_count": 41,
   "id": "3b68eef3-bb9a-4a33-8cfc-b7dd3b8f00e6",
   "metadata": {},
   "outputs": [
    {
     "data": {
      "text/plain": [
       "[array([[ 0.39930205, -0.90150283],\n",
       "        [-0.24752263, -0.13979813]]),\n",
       " array([[-0.10972272, -0.91209643],\n",
       "        [-0.90943296, -0.67972773]]),\n",
       " array([[-0.0261719 ,  1.04628185],\n",
       "        [ 0.22973878, -0.21854887]]),\n",
       " array([[1.73380364, 1.73519602],\n",
       "        [0.15838442, 1.3163862 ]])]"
      ]
     },
     "execution_count": 41,
     "metadata": {},
     "output_type": "execute_result"
    }
   ],
   "source": [
    "weights"
   ]
  },
  {
   "cell_type": "code",
   "execution_count": 49,
   "id": "6f5da499-b5cb-4782-a082-786ec26cf2f9",
   "metadata": {},
   "outputs": [
    {
     "data": {
      "text/plain": [
       "'t'"
      ]
     },
     "execution_count": 49,
     "metadata": {},
     "output_type": "execute_result"
    }
   ],
   "source": [
    "closest_match(.5, bits, stib)"
   ]
  },
  {
   "cell_type": "code",
   "execution_count": 34,
   "id": "ecad8b7a-1854-4c53-af49-e3557bac6d67",
   "metadata": {},
   "outputs": [
    {
     "name": "stdout",
     "output_type": "stream",
     "text": [
      "c\n",
      "a\n",
      "t\n"
     ]
    }
   ],
   "source": [
    "for letter in fp[0]:\n",
    "    print(closest_match(letter, bits, stib))"
   ]
  },
  {
   "cell_type": "code",
   "execution_count": 35,
   "id": "ae6af16f-4dd5-43bb-9bb9-c6dd90dfd3c2",
   "metadata": {},
   "outputs": [
    {
     "name": "stdout",
     "output_type": "stream",
     "text": [
      "t\n",
      "d\n",
      "o\n"
     ]
    }
   ],
   "source": [
    "for letter in fp[2]:\n",
    "    print(closest_match(letter, bits, stib))"
   ]
  },
  {
   "cell_type": "code",
   "execution_count": 26,
   "id": "232019ee-065f-4107-9d6f-31107b49e9a4",
   "metadata": {},
   "outputs": [
    {
     "name": "stdout",
     "output_type": "stream",
     "text": [
      "Epoch 0, Total Error: 0.002703467206552719\n"
     ]
    },
    {
     "data": {
      "text/plain": [
       "([array([[ 1.76042   , -0.93346325, -1.59480991],\n",
       "         [ 1.7979681 , -1.68149081, -1.06676862],\n",
       "         [ 0.40407384, -1.60996749, -1.1966817 ]]),\n",
       "  array([[-1.87762423, -1.86077829, -1.5763203 ],\n",
       "         [ 1.75896554,  1.74217246,  2.8844176 ],\n",
       "         [ 1.63031841,  1.73729409,  2.45091741]])],\n",
       " [array([-1.53297568,  2.08625939,  1.62771594]),\n",
       "  array([-0.66781416,  0.21311568,  0.3799994 ])])"
      ]
     },
     "execution_count": 26,
     "metadata": {},
     "output_type": "execute_result"
    }
   ],
   "source": [
    "train_network(tds, ws, bs)"
   ]
  },
  {
   "cell_type": "code",
   "execution_count": 36,
   "id": "14e72158-ffb7-47e6-af7c-31e2e76db5f2",
   "metadata": {},
   "outputs": [
    {
     "data": {
      "text/plain": [
       "[(0.16666666666666666, 0.3333333333333333, 0.5),\n",
       " array([0.43388842, 0.52585939, 0.48831745]),\n",
       " array([0.54577744, 0.74325893, 0.85028089])]"
      ]
     },
     "execution_count": 36,
     "metadata": {},
     "output_type": "execute_result"
    }
   ],
   "source": [
    "fp"
   ]
  },
  {
   "cell_type": "code",
   "execution_count": null,
   "id": "ad010d52-2af4-4c24-8e1f-1c3cc843557a",
   "metadata": {},
   "outputs": [],
   "source": []
  }
 ],
 "metadata": {
  "kernelspec": {
   "display_name": "Python 3 (ipykernel)",
   "language": "python",
   "name": "python3"
  },
  "language_info": {
   "codemirror_mode": {
    "name": "ipython",
    "version": 3
   },
   "file_extension": ".py",
   "mimetype": "text/x-python",
   "name": "python",
   "nbconvert_exporter": "python",
   "pygments_lexer": "ipython3",
   "version": "3.12.7"
  }
 },
 "nbformat": 4,
 "nbformat_minor": 5
}
