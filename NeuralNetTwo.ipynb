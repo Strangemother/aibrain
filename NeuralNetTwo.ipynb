{
 "cells": [
  {
   "cell_type": "code",
   "execution_count": 2,
   "id": "da9245f9-9b1c-4f5f-b5a6-e5abe1ea0697",
   "metadata": {},
   "outputs": [
    {
     "name": "stdout",
     "output_type": "stream",
     "text": [
      "Looking in indexes: https://artifacts.jpmchase.net/artifactory/api/pypi/pypi/simple\n",
      "Collecting numpy\n",
      "  Downloading https://artifacts.jpmchase.net/artifactory/api/pypi/pypi/packages/numpy/2.3.2/numpy-2.3.2-cp313-cp313-win_amd64.whl (12.8 MB)\n",
      "     ---------------------------------------- 0.0/12.8 MB ? eta -:--:--\n",
      "      --------------------------------------- 0.3/12.8 MB ? eta -:--:--\n",
      "     ----- ---------------------------------- 1.8/12.8 MB 7.2 MB/s eta 0:00:02\n",
      "     ------------------------------- ------- 10.5/12.8 MB 23.0 MB/s eta 0:00:01\n",
      "     ----------------------------------- --- 11.5/12.8 MB 22.0 MB/s eta 0:00:01\n",
      "     ----------------------------------- --- 11.5/12.8 MB 22.0 MB/s eta 0:00:01\n",
      "     ----------------------------------- --- 11.8/12.8 MB 12.6 MB/s eta 0:00:01\n",
      "     ------------------------------------ -- 12.1/12.8 MB 10.4 MB/s eta 0:00:01\n",
      "     ---------------------------------------- 12.8/12.8 MB 9.0 MB/s eta 0:00:00\n",
      "Installing collected packages: numpy\n",
      "Successfully installed numpy-2.3.2\n"
     ]
    }
   ],
   "source": [
    "!pip install numpy"
   ]
  },
  {
   "cell_type": "code",
   "execution_count": 1,
   "id": "6ba1f697-575a-4b40-b491-eca194e52c19",
   "metadata": {},
   "outputs": [],
   "source": [
    "import numpy as np"
   ]
  },
  {
   "cell_type": "code",
   "execution_count": 2,
   "id": "089a5342-ff82-473a-a156-a6ba99403521",
   "metadata": {},
   "outputs": [],
   "source": [
    "def sigmoid(z):\n",
    "  return 1.0 / (1 + np.exp(-z))"
   ]
  },
  {
   "cell_type": "code",
   "execution_count": 3,
   "id": "b16e244b-df14-4a85-860c-3444a2a9c7f9",
   "metadata": {},
   "outputs": [],
   "source": [
    "def sigmoid_prime(z):\n",
    "    return sigmoid(z) * (1-sigmoid(z))"
   ]
  },
  {
   "cell_type": "code",
   "execution_count": 4,
   "id": "5ac1c5ba-715c-4a45-93d3-2f6ddfe73712",
   "metadata": {},
   "outputs": [],
   "source": [
    "def sigmoid_derivative(x):\n",
    "    return x * (1 - x)"
   ]
  },
  {
   "cell_type": "code",
   "execution_count": 6,
   "id": "cf823c18-0fbf-4f96-bfcb-e409d3e026c0",
   "metadata": {},
   "outputs": [],
   "source": [
    "def initialized_network(input_size: int, hidden_layers: list, output_size: int):\n",
    "    layers = [input_size] + hidden_layers + [output_size]\n",
    "    weights = []\n",
    "    biases = []\n",
    "    print(f' initialize_network {layers=}')\n",
    "    \n",
    "    l = len(layers) - 1\n",
    "\n",
    "    for i in range(l):\n",
    "        \n",
    "        weight = np.random.uniform(-1, 1, (layers[i], layers[i+1]))\n",
    "        bias = np.random.uniform(-1, 1, (layers[i+1],))\n",
    "        print(f' #{i+1}/{l} {weight=}')\n",
    "        print(f'   {bias=}\\n')\n",
    "        weights.append(weight)\n",
    "        biases.append(bias)\n",
    "\n",
    "    return weights, biases\n",
    "        "
   ]
  },
  {
   "cell_type": "code",
   "execution_count": 7,
   "id": "f8590320-bffe-400e-94dc-80233bd7a870",
   "metadata": {},
   "outputs": [],
   "source": [
    "def train_network(td, w, b, lr=0.1, e=1000):\n",
    "    for epoch in range(e):\n",
    "        total_error = 0\n",
    "        for input_val, expected_output in td:\n",
    "            total_error += train_once(input_val, expected_output, lr, w, b)\n",
    "        if epoch % 1000 ==0:\n",
    "            print(f\"Epoch {epoch}, Total Error: {total_error}\")\n",
    "\n",
    "    return w, b\n",
    "            "
   ]
  },
  {
   "cell_type": "code",
   "execution_count": 8,
   "id": "63381565-626c-4029-9e03-6de09b605a59",
   "metadata": {},
   "outputs": [],
   "source": [
    "def forward_pass(input_data, weights, biases):\n",
    "    activations = [input_data]\n",
    "    for i in range(len(weights)):\n",
    "        # on error: likely due to the input shape not matching the input nodes.\n",
    "        input_data = np.dot(input_data, weights[i]) + biases[i]\n",
    "        input_data = sigmoid(input_data)\n",
    "        activations.append(input_data)\n",
    "    return activations"
   ]
  },
  {
   "cell_type": "code",
   "execution_count": 39,
   "id": "f5cb685e-3a69-4dd3-b357-cbe90b14daa6",
   "metadata": {},
   "outputs": [],
   "source": [
    "\n",
    "def forward_pass_one(input_data, weights, biases):\n",
    "    # # Generalized forward pass through all layers\n",
    "    # for i in range(len(weights)):\n",
    "    #     input_data = np.dot(input_data, weights[i]) + biases[i]\n",
    "    #     input_data = sigmoid(input_data)\n",
    "    # return input_data\n",
    "    return forward_pass(input_data, weights, biases)[-1]\n"
   ]
  },
  {
   "cell_type": "code",
   "execution_count": 9,
   "id": "737a9c3e-d3c3-4f7f-98d9-a74aec085d87",
   "metadata": {},
   "outputs": [],
   "source": [
    "def train_once(input_val, expected_output, learning_rate, weights, biases):\n",
    "    \"\"\"\n",
    "    # Example of adjusting training data to include negative example flag\n",
    "    training_data = [\n",
    "        # Positive examples: ((input_features), (target_output, False))\n",
    "        ((input_features_for_example_1), (target_output_for_example_1, False)),\n",
    "        # Negative examples: ((input_features), (target_output, True))\n",
    "        ((input_features_for_negative_example_1), (target_output_for_negative_example_1, True)),\n",
    "    ]\n",
    "\n",
    "    \"\"\"\n",
    "    # Forward pass: Store activations for each layer\n",
    "    activations = forward_pass(input_val, weights, biases)\n",
    "\n",
    "    # Backward pass\n",
    "    # Calculate output error\n",
    "    output_error = expected_output - activations[-1]\n",
    "    total_error = np.sum(output_error ** 2)\n",
    "\n",
    "    # Calculate gradient for output layer\n",
    "    d_error = output_error * sigmoid_derivative(activations[-1])\n",
    "\n",
    "    for i in reversed(range(len(weights))):\n",
    "        # Calculate error for the current layer\n",
    "        d_weights = np.outer(activations[i], d_error)\n",
    "        d_biases = d_error\n",
    "\n",
    "        # Update weights and biases\n",
    "        weights[i] += learning_rate * d_weights\n",
    "        # cannot be: `biases[i] += learning_rate * d_biases` due to numpy\n",
    "        biases[i] = biases[i] + (learning_rate * d_biases)\n",
    "\n",
    "        # Propagate the error backward\n",
    "        if i > 0:\n",
    "            d_error = np.dot(d_error, weights[i].T) * sigmoid_derivative(activations[i])\n",
    "    return total_error"
   ]
  },
  {
   "cell_type": "code",
   "execution_count": 10,
   "id": "919d0069-ba0d-46c1-a7f6-e5b2f9652f3a",
   "metadata": {},
   "outputs": [],
   "source": [
    "def dictify(word):\n",
    "    thedict = {}\n",
    "    for i, letter in enumerate(word):\n",
    "        thedict[letter] = (i+1)/len(word)\n",
    "    return thedict"
   ]
  },
  {
   "cell_type": "code",
   "execution_count": 207,
   "id": "e93ffb8a-57b5-468b-acfc-d4cf052b31d5",
   "metadata": {},
   "outputs": [],
   "source": [
    "bits = dictify(\"horsetrees\")\n",
    "bits\n",
    "\n",
    "def word_to_ints(word):\n",
    "    return [bits[x] for x in word]"
   ]
  },
  {
   "cell_type": "code",
   "execution_count": 208,
   "id": "4f62fc3d-33e4-4a20-bb84-3d40431e8750",
   "metadata": {},
   "outputs": [],
   "source": [
    "tds = [\n",
    "    (\n",
    "        word_to_ints('horse'),\n",
    "        word_to_ints('trees'),\n",
    "    ),\n",
    "    (\n",
    "        \n",
    "        word_to_ints('trees'),\n",
    "        word_to_ints('horse'),\n",
    "    )\n",
    "]"
   ]
  },
  {
   "cell_type": "code",
   "execution_count": 210,
   "id": "081915ac-b0dd-4935-919e-ed5d4b4ae66d",
   "metadata": {},
   "outputs": [
    {
     "name": "stdout",
     "output_type": "stream",
     "text": [
      " initialize_network layers=[5, 3, 5]\n",
      " #1/2 weight=array([[ 0.02238314,  0.23480097, -0.28986135],\n",
      "       [ 0.25553781,  0.89402362, -0.04555032],\n",
      "       [-0.03561692, -0.10750907, -0.87661902],\n",
      "       [ 0.79351426, -0.73018797, -0.72513966],\n",
      "       [-0.44394967, -0.53306918, -0.15993205]])\n",
      "   bias=array([-0.59811013,  0.95912117,  0.17648279])\n",
      "\n",
      " #2/2 weight=array([[-0.37797228, -0.11013702,  0.73457582, -0.77582103, -0.67079482],\n",
      "       [ 0.65086708, -0.76039068, -0.99236149, -0.11071205,  0.42717254],\n",
      "       [ 0.96776451,  0.44553305,  0.11301805, -0.92965602, -0.02730808]])\n",
      "   bias=array([ 0.21523055, -0.50006289, -0.24138141,  0.25086798,  0.35412338])\n",
      "\n",
      "Epoch 0, Total Error: 1.6581484999726324\n"
     ]
    },
    {
     "data": {
      "text/plain": [
       "([array([[ 0.20861483,  0.8612228 , -0.89405924],\n",
       "         [ 0.44949826,  1.50544208, -0.60898547],\n",
       "         [ 0.08988556,  0.04403739, -0.84926408],\n",
       "         [ 0.83510126, -1.00850676, -0.18852011],\n",
       "         [-0.33869026, -0.53981451,  0.07794051]]),\n",
       "  array([[-0.74670274,  0.08444119,  1.23538069,  0.1546361 ,  0.09081227],\n",
       "         [-0.57957409, -1.42100667, -0.73732998,  0.8822574 ,  1.1066281 ],\n",
       "         [ 1.36974164,  1.01912294,  0.41500308, -0.67538103,  0.24994701]])],\n",
       " [array([-0.52082255,  0.80908742,  0.58411022]),\n",
       "  array([-0.26239758,  0.24920876,  0.94582456,  2.17071365,  1.95493525])])"
      ]
     },
     "execution_count": 210,
     "metadata": {},
     "output_type": "execute_result"
    }
   ],
   "source": [
    "ws, bs = initialized_network(5,[3],5)\n",
    "train_network(tds, ws, bs)"
   ]
  },
  {
   "cell_type": "code",
   "execution_count": 213,
   "id": "b4d86c67-93ee-47e0-95c8-982e16c88d9e",
   "metadata": {},
   "outputs": [
    {
     "name": "stdout",
     "output_type": "stream",
     "text": [
      "stib: {0.1: 'h', 0.2: 'o', 0.7: 'r', 1.0: 's', 0.9: 'e', 0.6: 't'}\n",
      "fp: [(0.16666666666666666, 0.3333333333333333, 0.5), array([0.67082232, 0.42880837, 0.74335173]), array([0.6636555 , 0.83468608, 0.93690201])]\n"
     ]
    }
   ],
   "source": [
    "# cat_numbers = (bits[\"c\"], bits[\"a\"], bits[\"t\"])\n",
    "# dog_numbers = (bits[\"d\"], bits[\"o\"], bits[\"g\"])\n",
    "# fp = forward_pass(cat_numbers, ws, bs)\n",
    "stib = {v:k for k,v in bits.items()}\n",
    "print(f\"stib: {stib}\")\n",
    "print(f\"fp: {fp}\")"
   ]
  },
  {
   "cell_type": "code",
   "execution_count": 176,
   "id": "24574837-98e8-4947-b482-c62419db1f31",
   "metadata": {},
   "outputs": [],
   "source": [
    "# Needs work\n",
    "def closest_match(value, values_in, values_out):\n",
    "    fp = forward_pass(value, ws, bs)\n",
    "    \n",
    "    for i in range(len(ws)):\n",
    "        value = np.dot(value, ws[i]) + bs[i]\n",
    "        value = sigmoid(value)\n",
    "\n",
    "        \n",
    "    final_output = fp[0]\n",
    "    closest_numb = min(values_in.values(), key=lambda x: abs(x - final_output))\n",
    "    predicted_letter = values_out[closest_numb]\n",
    "    return predicted_letter"
   ]
  },
  {
   "cell_type": "code",
   "execution_count": 214,
   "id": "e1a47ed0-c803-4f80-b98a-b1e64890c364",
   "metadata": {},
   "outputs": [],
   "source": [
    "def closest_match(value, values_in, values_out):\n",
    "    input_val = np.array(value)\n",
    "    fp = forward_pass(input_val, ws, bs)[-1] # last Activation layer (-1)\n",
    "    return flat_word(fp, ws, bs, values_in, values_out)"
   ]
  },
  {
   "cell_type": "code",
   "execution_count": 217,
   "id": "6f5da499-b5cb-4782-a082-786ec26cf2f9",
   "metadata": {},
   "outputs": [],
   "source": [
    "a = closest_match(word_to_ints('horse'), bits, stib)"
   ]
  },
  {
   "cell_type": "code",
   "execution_count": 195,
   "id": "976ac94b-d032-4ef0-9843-063b8e524f77",
   "metadata": {},
   "outputs": [],
   "source": [
    "def predict(input_val, weights, biases, letter_to_num, num_to_letter):\n",
    "    # Ensure input is in the correct format (numpy array)\n",
    "    input_val = np.array(input_val)\n",
    "    v = forward_pass_one(input_val, weights, biases)\n",
    "    # Generalized forward pass through all layers\n",
    "    # for i in range(len(weights)):\n",
    "    #     input_val = np.dot(input_val, weights[i]) + biases[i]\n",
    "    #     input_val = sigmoid(input_val)\n",
    "    # assert v == input_val\n",
    "    # Convert the final output to the closest letter\n",
    "    # Here, we're assuming the output is a single number. Adjust as needed for multiple outputs.\n",
    "    # final_output = v[0]  # Assuming single output for simplicity\n",
    "    return flat_word(v, weights, biases, letter_to_num, num_to_letter)"
   ]
  },
  {
   "cell_type": "code",
   "execution_count": 196,
   "id": "d9e4041f-1e52-4ff2-ab8d-fa6192d08e4b",
   "metadata": {},
   "outputs": [],
   "source": [
    "def flat_word(v, weights, biases, letter_to_num, num_to_letter):\n",
    "    res = ''\n",
    "    for final_output in v:\n",
    "        closest_num = min(letter_to_num.values(), key=lambda x: abs(x - final_output))\n",
    "        predicted_letter = num_to_letter[closest_num]\n",
    "        # print(predicted_letter)\n",
    "        res += predicted_letter\n",
    "    return res"
   ]
  },
  {
   "cell_type": "code",
   "execution_count": 231,
   "id": "b271078f-4c89-4381-8fe4-0d1cbc2337dd",
   "metadata": {},
   "outputs": [
    {
     "name": "stdout",
     "output_type": "stream",
     "text": [
      "horse trees\n"
     ]
    }
   ],
   "source": [
    "a = predict(word_to_ints('trees'), ws, bs, bits, stib)\n",
    "b = predict(word_to_ints('horse'), ws, bs, bits, stib)\n",
    "\n",
    "print(a,b)"
   ]
  },
  {
   "cell_type": "code",
   "execution_count": 227,
   "id": "4a948572-944f-4476-afb0-2f62be196317",
   "metadata": {},
   "outputs": [
    {
     "data": {
      "text/plain": [
       "([array([[ 0.35952002,  1.89319678, -2.05981393],\n",
       "         [ 0.60275219,  2.49845558, -1.71827859],\n",
       "         [ 0.16574935,  0.19968782, -0.9429196 ],\n",
       "         [ 0.82887742, -1.61229844,  0.62053882],\n",
       "         [-0.28784026, -0.67627193,  0.34165137]]),\n",
       "  array([[-1.03169847, -0.11772165,  1.13864036,  0.30949097,  0.14740841],\n",
       "         [-2.07193428, -2.5258841 , -1.42559793,  1.17918828,  0.85366211],\n",
       "         [ 2.58302613,  1.91545206,  1.05017897, -0.74867268,  0.65953215]])],\n",
       " [array([-0.4973351 ,  0.41948263,  1.1487259 ]),\n",
       "  array([-0.26667272,  0.26527875,  1.00729854,  2.37421736,  2.16536446])])"
      ]
     },
     "execution_count": 227,
     "metadata": {},
     "output_type": "execute_result"
    }
   ],
   "source": [
    "ws, bs"
   ]
  },
  {
   "cell_type": "code",
   "execution_count": 199,
   "id": "d28a6a06-5fde-4513-b926-4930fddaa3cb",
   "metadata": {},
   "outputs": [
    {
     "data": {
      "text/plain": [
       "[(0.16666666666666666, 0.3333333333333333, 0.5),\n",
       " array([0.67082232, 0.42880837, 0.74335173]),\n",
       " array([0.6636555 , 0.83468608, 0.93690201])]"
      ]
     },
     "execution_count": 199,
     "metadata": {},
     "output_type": "execute_result"
    }
   ],
   "source": [
    "fp"
   ]
  },
  {
   "cell_type": "code",
   "execution_count": 230,
   "id": "232019ee-065f-4107-9d6f-31107b49e9a4",
   "metadata": {},
   "outputs": [
    {
     "name": "stdout",
     "output_type": "stream",
     "text": [
      "Epoch 0, Total Error: 0.006463620202123889\n"
     ]
    },
    {
     "data": {
      "text/plain": [
       "([array([[ 0.35665926,  1.92110013, -2.14621473],\n",
       "         [ 0.60110209,  2.52512802, -1.80198042],\n",
       "         [ 0.1725954 ,  0.20272513, -0.95966672],\n",
       "         [ 0.84179829, -1.63043443,  0.66534848],\n",
       "         [-0.27775862, -0.6815233 ,  0.34812214]]),\n",
       "  array([[-1.05556748, -0.11562765,  1.13725498,  0.33218353,  0.09093537],\n",
       "         [-2.16332258, -2.49218267, -1.51560058,  1.28605247,  0.5994567 ],\n",
       "         [ 2.65436387,  1.87716938,  1.15970735, -0.84151115,  0.87607124]])],\n",
       " [array([-0.48522851,  0.40717349,  1.1757156 ]),\n",
       "  array([-0.28085168,  0.25817313,  1.03412848,  2.38125345,  2.14407674])])"
      ]
     },
     "execution_count": 230,
     "metadata": {},
     "output_type": "execute_result"
    }
   ],
   "source": [
    "train_network(tds, ws, bs)"
   ]
  }
 ],
 "metadata": {
  "kernelspec": {
   "display_name": "Python 3 (ipykernel)",
   "language": "python",
   "name": "python3"
  },
  "language_info": {
   "codemirror_mode": {
    "name": "ipython",
    "version": 3
   },
   "file_extension": ".py",
   "mimetype": "text/x-python",
   "name": "python",
   "nbconvert_exporter": "python",
   "pygments_lexer": "ipython3",
   "version": "3.13.5"
  }
 },
 "nbformat": 4,
 "nbformat_minor": 5
}
