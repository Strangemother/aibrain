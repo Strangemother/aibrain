{
 "cells": [
  {
   "cell_type": "code",
   "execution_count": 2,
   "id": "da9245f9-9b1c-4f5f-b5a6-e5abe1ea0697",
   "metadata": {},
   "outputs": [
    {
     "name": "stdout",
     "output_type": "stream",
     "text": [
      "Looking in indexes: https://artifacts.jpmchase.net/artifactory/api/pypi/pypi/simple\n",
      "Collecting numpy\n",
      "  Downloading https://artifacts.jpmchase.net/artifactory/api/pypi/pypi/packages/numpy/2.3.2/numpy-2.3.2-cp313-cp313-win_amd64.whl (12.8 MB)\n",
      "     ---------------------------------------- 0.0/12.8 MB ? eta -:--:--\n",
      "      --------------------------------------- 0.3/12.8 MB ? eta -:--:--\n",
      "     ----- ---------------------------------- 1.8/12.8 MB 7.2 MB/s eta 0:00:02\n",
      "     ------------------------------- ------- 10.5/12.8 MB 23.0 MB/s eta 0:00:01\n",
      "     ----------------------------------- --- 11.5/12.8 MB 22.0 MB/s eta 0:00:01\n",
      "     ----------------------------------- --- 11.5/12.8 MB 22.0 MB/s eta 0:00:01\n",
      "     ----------------------------------- --- 11.8/12.8 MB 12.6 MB/s eta 0:00:01\n",
      "     ------------------------------------ -- 12.1/12.8 MB 10.4 MB/s eta 0:00:01\n",
      "     ---------------------------------------- 12.8/12.8 MB 9.0 MB/s eta 0:00:00\n",
      "Installing collected packages: numpy\n",
      "Successfully installed numpy-2.3.2\n"
     ]
    }
   ],
   "source": [
    "!pip install numpy"
   ]
  },
  {
   "cell_type": "code",
   "execution_count": 1,
   "id": "6ba1f697-575a-4b40-b491-eca194e52c19",
   "metadata": {},
   "outputs": [],
   "source": [
    "import numpy as np"
   ]
  },
  {
   "cell_type": "code",
   "execution_count": 2,
   "id": "089a5342-ff82-473a-a156-a6ba99403521",
   "metadata": {},
   "outputs": [],
   "source": [
    "def sigmoid(z):\n",
    "  return 1.0 / (1 + np.exp(-z))"
   ]
  },
  {
   "cell_type": "code",
   "execution_count": 3,
   "id": "b16e244b-df14-4a85-860c-3444a2a9c7f9",
   "metadata": {},
   "outputs": [],
   "source": [
    "def sigmoid_prime(z):\n",
    "    return sigmoid(z) * (1-sigmoid(z))"
   ]
  },
  {
   "cell_type": "code",
   "execution_count": 4,
   "id": "5ac1c5ba-715c-4a45-93d3-2f6ddfe73712",
   "metadata": {},
   "outputs": [],
   "source": [
    "def sigmoid_derivative(x):\n",
    "    return x * (1 - x)"
   ]
  },
  {
   "cell_type": "code",
   "execution_count": 6,
   "id": "cf823c18-0fbf-4f96-bfcb-e409d3e026c0",
   "metadata": {},
   "outputs": [],
   "source": [
    "def initialized_network(input_size: int, hidden_layers: list, output_size: int):\n",
    "    layers = [input_size] + hidden_layers + [output_size]\n",
    "    weights = []\n",
    "    biases = []\n",
    "    print(f' initialize_network {layers=}')\n",
    "    \n",
    "    l = len(layers) - 1\n",
    "\n",
    "    for i in range(l):\n",
    "        \n",
    "        weight = np.random.uniform(-1, 1, (layers[i], layers[i+1]))\n",
    "        bias = np.random.uniform(-1, 1, (layers[i+1],))\n",
    "        print(f' #{i+1}/{l} {weight=}')\n",
    "        print(f'   {bias=}\\n')\n",
    "        weights.append(weight)\n",
    "        biases.append(bias)\n",
    "\n",
    "    return weights, biases\n",
    "        "
   ]
  },
  {
   "cell_type": "code",
   "execution_count": 7,
   "id": "f8590320-bffe-400e-94dc-80233bd7a870",
   "metadata": {},
   "outputs": [],
   "source": [
    "def train_network(td, w, b, lr=0.1, e=1000):\n",
    "    for epoch in range(e):\n",
    "        total_error = 0\n",
    "        for input_val, expected_output in td:\n",
    "            total_error += train_once(input_val, expected_output, lr, w, b)\n",
    "        if epoch % 1000 ==0:\n",
    "            print(f\"Epoch {epoch}, Total Error: {total_error}\")\n",
    "\n",
    "    return w, b\n",
    "            "
   ]
  },
  {
   "cell_type": "code",
   "execution_count": 8,
   "id": "63381565-626c-4029-9e03-6de09b605a59",
   "metadata": {},
   "outputs": [],
   "source": [
    "def forward_pass(input_data, weights, biases):\n",
    "    activations = [input_data]\n",
    "    for i in range(len(weights)):\n",
    "        # on error: likely due to the input shape not matching the input nodes.\n",
    "        input_data = np.dot(input_data, weights[i]) + biases[i]\n",
    "        input_data = sigmoid(input_data)\n",
    "        activations.append(input_data)\n",
    "    return activations"
   ]
  },
  {
   "cell_type": "code",
   "execution_count": 39,
   "id": "f5cb685e-3a69-4dd3-b357-cbe90b14daa6",
   "metadata": {},
   "outputs": [],
   "source": [
    "\n",
    "def forward_pass_one(input_data, weights, biases):\n",
    "    # # Generalized forward pass through all layers\n",
    "    # for i in range(len(weights)):\n",
    "    #     input_data = np.dot(input_data, weights[i]) + biases[i]\n",
    "    #     input_data = sigmoid(input_data)\n",
    "    # return input_data\n",
    "    return forward_pass(input_data, weights, biases)[-1]\n"
   ]
  },
  {
   "cell_type": "code",
   "execution_count": 9,
   "id": "737a9c3e-d3c3-4f7f-98d9-a74aec085d87",
   "metadata": {},
   "outputs": [],
   "source": [
    "def train_once(input_val, expected_output, learning_rate, weights, biases):\n",
    "    \"\"\"\n",
    "    # Example of adjusting training data to include negative example flag\n",
    "    training_data = [\n",
    "        # Positive examples: ((input_features), (target_output, False))\n",
    "        ((input_features_for_example_1), (target_output_for_example_1, False)),\n",
    "        # Negative examples: ((input_features), (target_output, True))\n",
    "        ((input_features_for_negative_example_1), (target_output_for_negative_example_1, True)),\n",
    "    ]\n",
    "\n",
    "    \"\"\"\n",
    "    # Forward pass: Store activations for each layer\n",
    "    activations = forward_pass(input_val, weights, biases)\n",
    "\n",
    "    # Backward pass\n",
    "    # Calculate output error\n",
    "    output_error = expected_output - activations[-1]\n",
    "    total_error = np.sum(output_error ** 2)\n",
    "\n",
    "    # Calculate gradient for output layer\n",
    "    d_error = output_error * sigmoid_derivative(activations[-1])\n",
    "\n",
    "    for i in reversed(range(len(weights))):\n",
    "        # Calculate error for the current layer\n",
    "        d_weights = np.outer(activations[i], d_error)\n",
    "        d_biases = d_error\n",
    "\n",
    "        # Update weights and biases\n",
    "        weights[i] += learning_rate * d_weights\n",
    "        # cannot be: `biases[i] += learning_rate * d_biases` due to numpy\n",
    "        biases[i] = biases[i] + (learning_rate * d_biases)\n",
    "\n",
    "        # Propagate the error backward\n",
    "        if i > 0:\n",
    "            d_error = np.dot(d_error, weights[i].T) * sigmoid_derivative(activations[i])\n",
    "    return total_error"
   ]
  },
  {
   "cell_type": "code",
   "execution_count": 10,
   "id": "919d0069-ba0d-46c1-a7f6-e5b2f9652f3a",
   "metadata": {},
   "outputs": [],
   "source": [
    "def dictify(word):\n",
    "    thedict = {}\n",
    "    for i, letter in enumerate(word):\n",
    "        thedict[letter] = (i+1)/len(word)\n",
    "    return thedict"
   ]
  },
  {
   "cell_type": "code",
   "execution_count": 11,
   "id": "e93ffb8a-57b5-468b-acfc-d4cf052b31d5",
   "metadata": {},
   "outputs": [
    {
     "data": {
      "text/plain": [
       "{'c': 0.16666666666666666,\n",
       " 'a': 0.3333333333333333,\n",
       " 't': 0.5,\n",
       " 'd': 0.6666666666666666,\n",
       " 'o': 0.8333333333333334,\n",
       " 'g': 1.0}"
      ]
     },
     "execution_count": 11,
     "metadata": {},
     "output_type": "execute_result"
    }
   ],
   "source": [
    "bits = dictify(\"catdog\")\n",
    "bits"
   ]
  },
  {
   "cell_type": "code",
   "execution_count": 12,
   "id": "4f62fc3d-33e4-4a20-bb84-3d40431e8750",
   "metadata": {},
   "outputs": [],
   "source": [
    "tds = [\n",
    "    (\n",
    "        (0.16666666666666666,0.3333333333333333, 0.5),\n",
    "        (0.6666666666666666,0.8333333333333334, 1.0),\n",
    "    ),\n",
    "    (\n",
    "        (0.6666666666666666,0.8333333333333334, 1.0),\n",
    "        (0.16666666666666666,0.3333333333333333, 0.5),\n",
    "    )\n",
    "]"
   ]
  },
  {
   "cell_type": "code",
   "execution_count": 109,
   "id": "081915ac-b0dd-4935-919e-ed5d4b4ae66d",
   "metadata": {},
   "outputs": [
    {
     "name": "stdout",
     "output_type": "stream",
     "text": [
      " initialize_network layers=[3, 3, 3]\n",
      " #1/2 weight=array([[-0.08467469,  0.66524532, -0.12376302],\n",
      "       [-0.02059697, -0.81449916,  0.20397161],\n",
      "       [-0.44586953,  0.13137513, -0.17495557]])\n",
      "   bias=array([0.69934757, 0.38707912, 0.96299195])\n",
      "\n",
      " #2/2 weight=array([[-0.26217839, -0.19768127, -0.94532358],\n",
      "       [-0.02115293, -0.68977889, -0.75805636],\n",
      "       [-0.1162863 ,  0.78762624,  0.26588285]])\n",
      "   bias=array([ 0.9303869 , -0.44821179,  0.14953115])\n",
      "\n",
      "Epoch 0, Total Error: 0.9005848636463121\n"
     ]
    },
    {
     "data": {
      "text/plain": [
       "([array([[ 0.37858231,  1.36688834, -1.06724162],\n",
       "         [ 0.42051806, -0.19149396, -0.69232114],\n",
       "         [-0.02689648,  0.6757425 , -1.02406248]]),\n",
       "  array([[-0.57112502,  0.07903734, -0.43558203],\n",
       "         [-0.81688282, -0.85464771, -0.63478037],\n",
       "         [ 0.34204181,  1.78740261,  1.49348678]])],\n",
       " [array([ 0.56649571, -0.08474784,  1.246107  ]),\n",
       "  array([0.49913064, 0.07700377, 1.08773553])])"
      ]
     },
     "execution_count": 109,
     "metadata": {},
     "output_type": "execute_result"
    }
   ],
   "source": [
    "ws, bs = initialized_network(3,[3],3)\n",
    "train_network(tds, ws, bs)"
   ]
  },
  {
   "cell_type": "code",
   "execution_count": 82,
   "id": "b4d86c67-93ee-47e0-95c8-982e16c88d9e",
   "metadata": {},
   "outputs": [
    {
     "name": "stdout",
     "output_type": "stream",
     "text": [
      "stib: {0.16666666666666666: 'c', 0.3333333333333333: 'a', 0.5: 't', 0.6666666666666666: 'd', 0.8333333333333334: 'o', 1.0: 'g'}\n",
      "fp: [(0.16666666666666666, 0.3333333333333333, 0.5), array([0.74902055, 0.46451413, 0.8523532 ]), array([0.45266945, 0.57911559, 0.75855356])]\n"
     ]
    }
   ],
   "source": [
    "cat_numbers = (bits[\"c\"], bits[\"a\"], bits[\"t\"])\n",
    "fp = forward_pass(cat_numbers, ws, bs)\n",
    "stib = {v:k for k,v in bits.items()}\n",
    "print(f\"stib: {stib}\")\n",
    "print(f\"fp: {fp}\")"
   ]
  },
  {
   "cell_type": "code",
   "execution_count": 33,
   "id": "24574837-98e8-4947-b482-c62419db1f31",
   "metadata": {},
   "outputs": [],
   "source": [
    "def closest_match(value, values_in, values_out):\n",
    "    fp = forward_pass(value, ws, bs)\n",
    "    for i in range(len(ws)):\n",
    "        value = np.dot(value, ws[i]) + bs[i]\n",
    "        value = sigmoid(value)\n",
    "    final_output = fp[0]\n",
    "    closest_numb = min(values_in.values(), key=lambda x: abs(x - final_output))\n",
    "    predicted_letter = values_out[closest_numb]\n",
    "    return predicted_letter"
   ]
  },
  {
   "cell_type": "code",
   "execution_count": 78,
   "id": "cc562733-1f0d-4f56-98c1-a708230ee8c2",
   "metadata": {},
   "outputs": [],
   "source": [
    "\n",
    "def predict(input_val, weights, biases, letter_to_num, num_to_letter):\n",
    "    # Ensure input is in the correct format (numpy array)\n",
    "    input_val = np.array(input_val)\n",
    "\n",
    "    v = forward_pass_one(input_val, weights, biases)\n",
    "    # Generalized forward pass through all layers\n",
    "    for i in range(len(weights)):\n",
    "        input_val = np.dot(input_val, weights[i]) + biases[i]\n",
    "        input_val = sigmoid(input_val)\n",
    "    # assert v == input_val\n",
    "    # Convert the final output to the closest letter\n",
    "    # Here, we're assuming the output is a single number. Adjust as needed for multiple outputs.\n",
    "    # final_output = v[0]  # Assuming single output for simplicity\n",
    "    res = ''\n",
    "    for final_output in v:\n",
    "        closest_num = min(letter_to_num.values(), key=lambda x: abs(x - final_output))\n",
    "        predicted_letter = num_to_letter[closest_num]\n",
    "        # print(predicted_letter)\n",
    "        res += predicted_letter\n",
    "    return res\n"
   ]
  },
  {
   "cell_type": "code",
   "execution_count": 118,
   "id": "b271078f-4c89-4381-8fe4-0d1cbc2337dd",
   "metadata": {},
   "outputs": [
    {
     "data": {
      "text/plain": [
       "'dog'"
      ]
     },
     "execution_count": 118,
     "metadata": {},
     "output_type": "execute_result"
    }
   ],
   "source": [
    "predict(cat_numbers, ws, bs, bits, stib)"
   ]
  },
  {
   "cell_type": "code",
   "execution_count": 111,
   "id": "4a948572-944f-4476-afb0-2f62be196317",
   "metadata": {},
   "outputs": [
    {
     "data": {
      "text/plain": [
       "([array([[ 0.37858231,  1.36688834, -1.06724162],\n",
       "         [ 0.42051806, -0.19149396, -0.69232114],\n",
       "         [-0.02689648,  0.6757425 , -1.02406248]]),\n",
       "  array([[-0.57112502,  0.07903734, -0.43558203],\n",
       "         [-0.81688282, -0.85464771, -0.63478037],\n",
       "         [ 0.34204181,  1.78740261,  1.49348678]])],\n",
       " [array([ 0.56649571, -0.08474784,  1.246107  ]),\n",
       "  array([0.49913064, 0.07700377, 1.08773553])])"
      ]
     },
     "execution_count": 111,
     "metadata": {},
     "output_type": "execute_result"
    }
   ],
   "source": [
    "ws, bs"
   ]
  },
  {
   "cell_type": "code",
   "execution_count": 87,
   "id": "6f5da499-b5cb-4782-a082-786ec26cf2f9",
   "metadata": {},
   "outputs": [
    {
     "data": {
      "text/plain": [
       "'c'"
      ]
     },
     "execution_count": 87,
     "metadata": {},
     "output_type": "execute_result"
    }
   ],
   "source": [
    "closest_match(.1, bits, stib)"
   ]
  },
  {
   "cell_type": "code",
   "execution_count": 88,
   "id": "d28a6a06-5fde-4513-b926-4930fddaa3cb",
   "metadata": {},
   "outputs": [
    {
     "data": {
      "text/plain": [
       "[(0.16666666666666666, 0.3333333333333333, 0.5),\n",
       " array([0.74902055, 0.46451413, 0.8523532 ]),\n",
       " array([0.45266945, 0.57911559, 0.75855356])]"
      ]
     },
     "execution_count": 88,
     "metadata": {},
     "output_type": "execute_result"
    }
   ],
   "source": [
    "fp"
   ]
  },
  {
   "cell_type": "code",
   "execution_count": 89,
   "id": "ecad8b7a-1854-4c53-af49-e3557bac6d67",
   "metadata": {},
   "outputs": [
    {
     "name": "stdout",
     "output_type": "stream",
     "text": [
      "c\n",
      "a\n",
      "t\n"
     ]
    }
   ],
   "source": [
    "for letter in fp[0]:\n",
    "    print(closest_match(letter, bits, stib))"
   ]
  },
  {
   "cell_type": "code",
   "execution_count": 90,
   "id": "ae6af16f-4dd5-43bb-9bb9-c6dd90dfd3c2",
   "metadata": {},
   "outputs": [
    {
     "name": "stdout",
     "output_type": "stream",
     "text": [
      "t\n",
      "t\n",
      "o\n"
     ]
    }
   ],
   "source": [
    "for letter in fp[2]:\n",
    "    print(closest_match(letter, bits, stib))"
   ]
  },
  {
   "cell_type": "code",
   "execution_count": 117,
   "id": "232019ee-065f-4107-9d6f-31107b49e9a4",
   "metadata": {},
   "outputs": [
    {
     "name": "stdout",
     "output_type": "stream",
     "text": [
      "Epoch 0, Total Error: 0.007996256817873554\n"
     ]
    },
    {
     "data": {
      "text/plain": [
       "([array([[ 0.73673958,  2.10778114, -2.25578938],\n",
       "         [ 0.72377971,  0.35239236, -1.61815317],\n",
       "         [ 0.22146956,  1.02262233, -1.68717877]]),\n",
       "  array([[-1.03499628, -0.1384617 , -0.68205288],\n",
       "         [-1.95576111, -1.46639346, -1.51979331],\n",
       "         [ 2.26849983,  2.9332342 ,  3.31789246]])],\n",
       " [array([ 0.23712203, -1.26678675,  2.82240144]),\n",
       "  array([0.52627935, 0.1604698 , 1.34076506])])"
      ]
     },
     "execution_count": 117,
     "metadata": {},
     "output_type": "execute_result"
    }
   ],
   "source": [
    "train_network(tds, ws, bs)"
   ]
  },
  {
   "cell_type": "code",
   "execution_count": 104,
   "id": "14e72158-ffb7-47e6-af7c-31e2e76db5f2",
   "metadata": {},
   "outputs": [
    {
     "data": {
      "text/plain": [
       "[(0.16666666666666666, 0.3333333333333333, 0.5),\n",
       " array([0.74902055, 0.46451413, 0.8523532 ]),\n",
       " array([0.45266945, 0.57911559, 0.75855356])]"
      ]
     },
     "execution_count": 104,
     "metadata": {},
     "output_type": "execute_result"
    }
   ],
   "source": [
    "fp"
   ]
  },
  {
   "cell_type": "code",
   "execution_count": null,
   "id": "ad010d52-2af4-4c24-8e1f-1c3cc843557a",
   "metadata": {},
   "outputs": [],
   "source": []
  }
 ],
 "metadata": {
  "kernelspec": {
   "display_name": "Python 3 (ipykernel)",
   "language": "python",
   "name": "python3"
  },
  "language_info": {
   "codemirror_mode": {
    "name": "ipython",
    "version": 3
   },
   "file_extension": ".py",
   "mimetype": "text/x-python",
   "name": "python",
   "nbconvert_exporter": "python",
   "pygments_lexer": "ipython3",
   "version": "3.13.5"
  }
 },
 "nbformat": 4,
 "nbformat_minor": 5
}
